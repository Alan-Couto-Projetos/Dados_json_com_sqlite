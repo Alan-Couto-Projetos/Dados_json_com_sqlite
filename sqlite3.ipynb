{
 "cells": [
  {
   "cell_type": "code",
   "execution_count": 1,
   "id": "2a8a86f2",
   "metadata": {},
   "outputs": [],
   "source": [
    "import sqlite3\n",
    "import json"
   ]
  },
  {
   "cell_type": "code",
   "execution_count": 2,
   "id": "27ac9817",
   "metadata": {},
   "outputs": [],
   "source": [
    "\n",
    "with sqlite3.connect(\"dados.db\") as con:\n",
    "    cur = con.cursor()\n",
    "    cur.execute(\"\"\"CREATE TABLE IF NOT EXISTS dados_busca \n",
    "                (id INTEGER PRIMARY KEY AUTOINCREMENT, data_raw TEXT)\n",
    "    \"\"\")\n"
   ]
  },
  {
   "cell_type": "code",
   "execution_count": 3,
   "id": "df126949",
   "metadata": {},
   "outputs": [],
   "source": [
    "with open(\"dados.json\", \"r\") as f:\n",
    "    data = json.dumps(json.load(f), ensure_ascii=False)\n",
    "    with sqlite3.connect(\"dados.db\") as con:\n",
    "        cur = con.cursor()\n",
    "        cur.execute(\"\"\"INSERT INTO dados_busca (data_raw) \n",
    "                    VALUES (?)\"\"\", (data,)\n",
    "        )\n",
    "        \n",
    "        con.commit()\n",
    "\n",
    "\n",
    "# sem isso cria dados.db-journal que é o registro de transações garantido que seja feito de forma segura e atomica\n"
   ]
  },
  {
   "cell_type": "code",
   "execution_count": 4,
   "id": "89521439",
   "metadata": {},
   "outputs": [
    {
     "name": "stdout",
     "output_type": "stream",
     "text": [
      "(1, '{\"event_time\": \"2025-06-03T10:15:00Z\", \"user_id\": 12345, \"session_id\": \"abcde-12345\", \"event_type\": \"product_view\", \"product\": {\"id\": 9876, \"name\": \"Smartphone XYZ\", \"category\": \"Electronics\", \"price\": 1999.99}, \"device\": {\"type\": \"mobile\", \"os\": \"Android\"}, \"location\": {\"country\": \"Brazil\", \"city\": \"São Paulo\"}}')\n"
     ]
    }
   ],
   "source": [
    "\n",
    "with sqlite3.connect(\"dados.db\") as con:\n",
    "    cur = con.cursor()\n",
    "    cur.execute(\"\"\"SELECT * \n",
    "                FROM dados_busca\n",
    "    \"\"\")\n",
    "\n",
    "    row = cur.fetchone()\n",
    "    \n",
    "    print(row)\n",
    "\n"
   ]
  },
  {
   "cell_type": "code",
   "execution_count": 5,
   "id": "a113e7f3",
   "metadata": {},
   "outputs": [
    {
     "name": "stdout",
     "output_type": "stream",
     "text": [
      "('abcde-12345', 'product_view', 'Smartphone XYZ', 'Electronics', 'Brazil')\n"
     ]
    }
   ],
   "source": [
    "with sqlite3.connect(\"dados.db\") as con:\n",
    "    cur = con.cursor()\n",
    "    cur.execute(\"SELECT json_extract(data_raw, '$.session_id') AS ID_sessao,\" \\\n",
    "                \" json_extract(data_raw, '$.event_type') AS tipo_evento,\" \\\n",
    "                \" json_extract(data_raw, '$.product.name') AS nome_produto,\" \\\n",
    "                \" json_extract(data_raw, '$.product.category') AS categoria,\" \\\n",
    "                \" json_extract(data_raw, '$.location.country') AS pais \" \\\n",
    "                \" FROM dados_busca\"\n",
    "        )\n",
    "    \n",
    "    row = cur.fetchone()\n",
    "\n",
    "    print(row)\n"
   ]
  },
  {
   "cell_type": "code",
   "execution_count": 6,
   "id": "eb554d73",
   "metadata": {},
   "outputs": [],
   "source": [
    "data_product_view = {\n",
    "  \"user_id\": 12345,\n",
    "  \"session_id\": \"abcde-12345\",\n",
    "  \"event_type\": \"cart_view\",\n",
    "  \"products\": [\n",
    "    {\"id\": 9876, \"name\": \"Smartphone XYZ\", \"category\": \"Electronics\"},\n",
    "    {\"id\": 1234, \"name\": \"Notebook ABC\", \"category\": \"Computers\"}\n",
    "  ]\n",
    "}\n",
    "\n",
    "with sqlite3.connect(\"dados.db\") as con:\n",
    "    cur = con.cursor()\n",
    "    cur.execute(\"\"\"INSERT INTO dados_busca (data_raw) \n",
    "                VALUES (?)\"\"\", [json.dumps(data_product_view, ensure_ascii=False)]\n",
    "    )"
   ]
  },
  {
   "cell_type": "code",
   "execution_count": 7,
   "id": "2ed96de5",
   "metadata": {},
   "outputs": [
    {
     "name": "stdout",
     "output_type": "stream",
     "text": [
      "[('{\"user_id\": 12345, \"session_id\": \"abcde-12345\", \"event_type\": \"cart_view\", \"products\": [{\"id\": 9876, \"name\": \"Smartphone XYZ\", \"category\": \"Electronics\"}, {\"id\": 1234, \"name\": \"Notebook ABC\", \"category\": \"Computers\"}]}',)]\n"
     ]
    }
   ],
   "source": [
    "with sqlite3.connect(\"dados.db\") as con:\n",
    "    cur = con.cursor()\n",
    "    cur.execute(\"\"\"SELECT data_raw \n",
    "                FROM dados_busca \n",
    "                WHERE id == 2\n",
    "    \"\"\")\n",
    "\n",
    "    row = cur.fetchall()\n",
    "\n",
    "    print(row)"
   ]
  },
  {
   "cell_type": "code",
   "execution_count": 8,
   "id": "1e48a445",
   "metadata": {},
   "outputs": [
    {
     "name": "stdout",
     "output_type": "stream",
     "text": [
      "[('abcde-12345', 9876, 'Smartphone XYZ', 'Electronics'), ('abcde-12345', 1234, 'Notebook ABC', 'Computers')]\n"
     ]
    }
   ],
   "source": [
    "with sqlite3.connect(\"dados.db\") as con:\n",
    "    cur = con.cursor()\n",
    "\n",
    "    cur.execute(\"\"\"SELECT json_extract(data_raw, '$.session_id'),\n",
    "                json_extract(product.value, '$.id') AS product_id,\n",
    "                json_extract(product.value, '$.name') AS product_name,\n",
    "                json_extract(product.value, '$.category') AS category\n",
    "                FROM dados_busca,\n",
    "                json_each(json_extract(data_raw, '$.products')) product\n",
    "    \"\"\")\n",
    "\n",
    "    row = cur.fetchall()\n",
    "\n",
    "    print(row)\n",
    "\n"
   ]
  },
  {
   "cell_type": "code",
   "execution_count": 9,
   "id": "21d475af",
   "metadata": {},
   "outputs": [
    {
     "name": "stdout",
     "output_type": "stream",
     "text": [
      "[('2025-06-03T10:15:00Z', 12345, 'abcde-12345', 'product_view', 9876, 'Smartphone XYZ', 'Electronics', 1999.99, 'mobile', 'Brazil', 'São Paulo'), ('2025-06-03T10:15:00Z', 12345, 'abcde-12345', 'cart_view', 9876, 'Smartphone XYZ', 'Electronics', None, None, 'Brazil', 'São Paulo'), ('2025-06-03T10:15:00Z', 12345, 'abcde-12345', 'cart_view', 1234, 'Notebook ABC', 'Computers', None, None, 'Brazil', 'São Paulo')]\n"
     ]
    }
   ],
   "source": [
    "with sqlite3.connect(\"dados.db\") as con:\n",
    "    cur = con.cursor()\n",
    "\n",
    "    cur.execute(\"\"\"CREATE TABLE IF NOT EXISTS produtos_eventos AS\n",
    "                SELECT (SELECT json_extract(data_raw, '$.event_time')\n",
    "                         FROM dados_busca\n",
    "                        ) AS event_time,\n",
    "                json_extract(data_raw,'$.user_id') AS user_id,\n",
    "                json_extract(data_raw,'$.session_id') AS session_id,\n",
    "                json_extract(data_raw,'$.event_type') AS event_type,\n",
    "                CASE\n",
    "                    WHEN json_extract(data_raw,'$.event_type') = 'product_view'\n",
    "                        THEN json_extract(data_raw,'$.product.id')\n",
    "                        ELSE json_extract(product.value,'$.id')\n",
    "                END AS product_id,\n",
    "                CASE\n",
    "                    WHEN json_extract(data_raw,'$.event_type') = 'product_view'\n",
    "                        THEN json_extract(data_raw,'$.product.name')\n",
    "                        ELSE json_extract(product.value,'$.name')\n",
    "                END AS product_name,\n",
    "                CASE\n",
    "                    WHEN json_extract(data_raw,'$.event_type') = 'product_view'\n",
    "                        THEN json_extract(data_raw,'$.product.category')\n",
    "                        ELSE json_extract(product.value,'$.category')\n",
    "                END AS product_category,\n",
    "                CASE\n",
    "                    WHEN json_extract(data_raw,'$.event_type') = 'product_view'\n",
    "                        THEN json_extract(data_raw,'$.product.price')\n",
    "                        ELSE json_extract(product.value,'$.price')\n",
    "                END AS product_price,\n",
    "                CASE\n",
    "                    WHEN json_extract(data_raw,'$.event_type') = 'product_view'\n",
    "                        THEN json_extract(data_raw,'$.device.type')\n",
    "                        ELSE json_extract(product.value,'$.type')\n",
    "                END AS product_type,\n",
    "                (SELECT json_extract(data_raw, '$.location.country')\n",
    "                         FROM dados_busca\n",
    "                        ) AS country,\n",
    "                (SELECT json_extract(data_raw, '$.location.city')\n",
    "                         FROM dados_busca\n",
    "                        ) AS city\n",
    "                FROM dados_busca\n",
    "                LEFT JOIN\n",
    "                json_each(json_extract(data_raw, '$.products')) product\n",
    "    \"\"\")\n",
    "    \n",
    "    cur.execute(\"\"\"SELECT \n",
    "                *\n",
    "                FROM\n",
    "                produtos_eventos\n",
    "    \"\"\")\n",
    "    \n",
    "    row = cur.fetchall()\n",
    "\n",
    "    print(row)\n",
    "\n",
    "    "
   ]
  },
  {
   "cell_type": "code",
   "execution_count": 13,
   "id": "942a4061",
   "metadata": {},
   "outputs": [
    {
     "name": "stdout",
     "output_type": "stream",
     "text": [
      "[('{\"user_id\":12345,\"session_id\":\"abcde-12345\",\"product\":{\"id\":9876,\"name\":\"Smartphone XYZ\"},\"event_type\":\"product_view\"}',), ('{\"user_id\":12345,\"session_id\":\"abcde-12345\",\"product\":{\"id\":9876,\"name\":\"Smartphone XYZ\"},\"event_type\":\"cart_view\"}',), ('{\"user_id\":12345,\"session_id\":\"abcde-12345\",\"product\":{\"id\":1234,\"name\":\"Notebook ABC\"},\"event_type\":\"cart_view\"}',)]\n"
     ]
    }
   ],
   "source": [
    "with sqlite3.connect(\"dados.db\") as con:\n",
    "    cur = con.cursor()\n",
    "\n",
    "    cur.execute(\"\"\"SELECT\n",
    "        json_object(\n",
    "          'user_id', user_id,\n",
    "          'session_id', session_id,\n",
    "          'product', \n",
    "          json_object(\n",
    "            'id', product_id,\n",
    "            'name', product_name\n",
    "          ),\n",
    "          'event_type', event_type                \n",
    "        ) AS json_object\n",
    "                \n",
    "        FROM produtos_eventos\n",
    "    \"\"\")\n",
    "\n",
    "    row = cur.fetchall()\n",
    "\n",
    "    print(row)"
   ]
  }
 ],
 "metadata": {
  "kernelspec": {
   "display_name": "Python 3",
   "language": "python",
   "name": "python3"
  },
  "language_info": {
   "codemirror_mode": {
    "name": "ipython",
    "version": 3
   },
   "file_extension": ".py",
   "mimetype": "text/x-python",
   "name": "python",
   "nbconvert_exporter": "python",
   "pygments_lexer": "ipython3",
   "version": "3.11.4"
  }
 },
 "nbformat": 4,
 "nbformat_minor": 5
}
